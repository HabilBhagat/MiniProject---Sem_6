{
 "cells": [
  {
   "cell_type": "code",
   "execution_count": 48,
   "metadata": {},
   "outputs": [],
   "source": [
    "import pandas as pd"
   ]
  },
  {
   "cell_type": "code",
   "execution_count": 49,
   "metadata": {},
   "outputs": [],
   "source": [
    "df=pd.read_csv(\"final.csv\")"
   ]
  },
  {
   "cell_type": "code",
   "execution_count": 50,
   "metadata": {},
   "outputs": [],
   "source": [
    "from sklearn.preprocessing import StandardScaler,Normalizer\n",
    "from sklearn.svm import LinearSVC\n",
    "from sklearn.model_selection import train_test_split\n",
    "from sklearn.metrics import classification_report, confusion_matrix"
   ]
  },
  {
   "cell_type": "code",
   "execution_count": 51,
   "metadata": {},
   "outputs": [],
   "source": [
    "x=df.iloc[:,0:16]\n",
    "\n",
    "obj=StandardScaler()\n",
    "x1=obj.fit_transform(x)\n",
    "y=df['Name']"
   ]
  },
  {
   "cell_type": "code",
   "execution_count": 52,
   "metadata": {},
   "outputs": [
    {
     "name": "stderr",
     "output_type": "stream",
     "text": [
      "/home/irobot/anaconda3/envs/mllab/lib/python3.8/site-packages/sklearn/svm/_base.py:946: ConvergenceWarning: Liblinear failed to converge, increase the number of iterations.\n",
      "  warnings.warn(\"Liblinear failed to converge, increase \"\n"
     ]
    },
    {
     "data": {
      "text/plain": [
       "LinearSVC(C=1.0, class_weight=None, dual=True, fit_intercept=True,\n",
       "          intercept_scaling=1, loss='squared_hinge', max_iter=1000,\n",
       "          multi_class='ovr', penalty='l2', random_state=None, tol=0.0001,\n",
       "          verbose=0)"
      ]
     },
     "execution_count": 52,
     "metadata": {},
     "output_type": "execute_result"
    }
   ],
   "source": [
    "#xtrain, xtest, ytrain, ytest=train_test_split(x1,y,random_state=42,test_size=0.3)\n",
    "sv=LinearSVC()\n",
    "sv.fit(x,y)"
   ]
  },
  {
   "cell_type": "code",
   "execution_count": 53,
   "metadata": {},
   "outputs": [],
   "source": [
    "# Xnew = [[32.50483907, 16.68125359, 76.32405211, 40.46434142, 128.9493174, 62.47935295, 132.3645939, 113.5914151, 260.4534967,\t264.8745553, 122.4893434, 82.70515668, 41.11872276, 24.87192857, 49.25238353, 17.61517879], \n",
    "#         [5.569689147, 3.371175004, 13.76362073, 13.33959183, 22.5516479, 14.20222796, 28.79020324, 16.35743318, 17.56289318,\t10.64223247, 19.80700183, 9.634140307, 29.34312641, 1.728746879, 15.35292372, 2.283901445], \n",
    "#         [9.627441982, 4.243215182, 10.39976159, 5.031497023, 36.45785804, 23.99873586, 11.36155859, 65.78578362, 45.50258796, 161.3106594,189.1110834, 17.08989078, 7.135209376, 15.46420274, 17.26959794, 36.24092518]]\n",
    "\n",
    "\n",
    "\n",
    "Xnew = pd.read_csv(\"points_test1.csv\")\n",
    "\n",
    "obj=StandardScaler()\n",
    "x1=obj.fit_transform(x)\n",
    "\n"
   ]
  },
  {
   "cell_type": "code",
   "execution_count": 54,
   "metadata": {},
   "outputs": [],
   "source": [
    "ynew = sv.predict(x1)\n",
    "# for i in range(len(Xnew)):\n",
    "# \tprint(\"X=%s, Predicted=%s\" % (Xnew[i], ynew[i]))\n",
    "\n",
    "#print(confusion_matrix(ytest, ypred))\n",
    "#print(classification_report(ytest, ypred))"
   ]
  },
  {
   "cell_type": "code",
   "execution_count": 55,
   "metadata": {},
   "outputs": [
    {
     "name": "stdout",
     "output_type": "stream",
     "text": [
      "['Gourishankar Bansode' 'Gourishankar Bansode' 'Gourishankar Bansode'\n",
      " 'Gourishankar Bansode' 'Gourishankar Bansode' 'Dhananjay Kumar Jha'\n",
      " 'Gourishankar Bansode' 'Gourishankar Bansode' 'Gourishankar Bansode'\n",
      " 'Gourishankar Bansode' 'Gourishankar Bansode' 'Gourishankar Bansode'\n",
      " 'Gourishankar Bansode' 'Gourishankar Bansode' 'Gourishankar Bansode'\n",
      " 'Gourishankar Bansode' 'Gourishankar Bansode' 'Gourishankar Bansode'\n",
      " 'Gourishankar Bansode' 'Gourishankar Bansode' 'Gourishankar Bansode'\n",
      " 'Gourishankar Bansode' 'Gourishankar Bansode' 'Gourishankar Bansode'\n",
      " 'Gourishankar Bansode' 'Gourishankar Bansode' 'Gourishankar Bansode'\n",
      " 'Gourishankar Bansode' 'Gourishankar Bansode' 'Gourishankar Bansode'\n",
      " 'Gourishankar Bansode' 'Gourishankar Bansode' 'Gourishankar Bansode'\n",
      " 'Gourishankar Bansode' 'Gourishankar Bansode' 'Gourishankar Bansode'\n",
      " 'Gourishankar Bansode' 'Gourishankar Bansode' 'Gourishankar Bansode'\n",
      " 'Gourishankar Bansode' 'Gourishankar Bansode' 'Gourishankar Bansode'\n",
      " 'Gourishankar Bansode' 'Gourishankar Bansode' 'Gourishankar Bansode'\n",
      " 'Gourishankar Bansode' 'Gourishankar Bansode' 'Gourishankar Bansode'\n",
      " 'Gourishankar Bansode' 'Gourishankar Bansode' 'Gourishankar Bansode'\n",
      " 'Gourishankar Bansode' 'Gourishankar Bansode' 'Gourishankar Bansode'\n",
      " 'Gourishankar Bansode' 'Gourishankar Bansode' 'Gourishankar Bansode'\n",
      " 'Gourishankar Bansode' 'Gourishankar Bansode' 'Gourishankar Bansode'\n",
      " 'Gourishankar Bansode' 'Gourishankar Bansode' 'Gourishankar Bansode'\n",
      " 'Gourishankar Bansode' 'Gourishankar Bansode' 'Gourishankar Bansode'\n",
      " 'Gourishankar Bansode' 'Gourishankar Bansode' 'Gourishankar Bansode'\n",
      " 'Gourishankar Bansode' 'Gourishankar Bansode' 'Gourishankar Bansode'\n",
      " 'Gourishankar Bansode' 'Gourishankar Bansode' 'Gourishankar Bansode'\n",
      " 'Gourishankar Bansode' 'Gourishankar Bansode' 'Gourishankar Bansode'\n",
      " 'Gourishankar Bansode' 'Gourishankar Bansode' 'Gourishankar Bansode'\n",
      " 'Gourishankar Bansode' 'Gourishankar Bansode' 'Gourishankar Bansode'\n",
      " 'Gourishankar Bansode' 'Gourishankar Bansode' 'Gourishankar Bansode'\n",
      " 'Gourishankar Bansode' 'Gourishankar Bansode' 'Gourishankar Bansode'\n",
      " 'Gourishankar Bansode' 'Gourishankar Bansode' 'Gourishankar Bansode'\n",
      " 'Gourishankar Bansode' 'Gourishankar Bansode' 'Gourishankar Bansode'\n",
      " 'Gourishankar Bansode' 'Gourishankar Bansode' 'Gourishankar Bansode'\n",
      " 'Gourishankar Bansode' 'Gourishankar Bansode' 'Gourishankar Bansode'\n",
      " 'Gourishankar Bansode' 'Gourishankar Bansode' 'Gourishankar Bansode'\n",
      " 'Gourishankar Bansode' 'Gourishankar Bansode' 'Gourishankar Bansode'\n",
      " 'Gourishankar Bansode' 'Gourishankar Bansode' 'Gourishankar Bansode'\n",
      " 'Gourishankar Bansode' 'Gourishankar Bansode' 'Gourishankar Bansode'\n",
      " 'Gourishankar Bansode' 'Gourishankar Bansode' 'Gourishankar Bansode'\n",
      " 'Gourishankar Bansode' 'Gourishankar Bansode' 'Gourishankar Bansode'\n",
      " 'Gourishankar Bansode' 'Gourishankar Bansode' 'Gourishankar Bansode'\n",
      " 'Gourishankar Bansode' 'Gourishankar Bansode' 'Gourishankar Bansode'\n",
      " 'Gourishankar Bansode' 'Gourishankar Bansode' 'Gourishankar Bansode'\n",
      " 'Gourishankar Bansode' 'Gourishankar Bansode' 'Gourishankar Bansode'\n",
      " 'Gourishankar Bansode' 'Gourishankar Bansode' 'Gourishankar Bansode'\n",
      " 'Gourishankar Bansode' 'Gourishankar Bansode' 'Gourishankar Bansode'\n",
      " 'Gourishankar Bansode' 'Gourishankar Bansode' 'Gourishankar Bansode'\n",
      " 'Gourishankar Bansode' 'Gourishankar Bansode' 'Gourishankar Bansode'\n",
      " 'Gourishankar Bansode' 'Gourishankar Bansode' 'Gourishankar Bansode'\n",
      " 'Gourishankar Bansode' 'Gourishankar Bansode' 'Gourishankar Bansode'\n",
      " 'Gourishankar Bansode' 'Gourishankar Bansode' 'Gourishankar Bansode'\n",
      " 'Gourishankar Bansode' 'Gourishankar Bansode' 'Gourishankar Bansode'\n",
      " 'Gourishankar Bansode' 'Gourishankar Bansode' 'Gourishankar Bansode'\n",
      " 'Gourishankar Bansode' 'Gourishankar Bansode' 'Gourishankar Bansode'\n",
      " 'Gourishankar Bansode' 'Gourishankar Bansode' 'Gourishankar Bansode'\n",
      " 'Gourishankar Bansode' 'Gourishankar Bansode' 'Gourishankar Bansode'\n",
      " 'Gourishankar Bansode' 'Gourishankar Bansode' 'Gourishankar Bansode'\n",
      " 'Gourishankar Bansode' 'Gourishankar Bansode' 'Gourishankar Bansode'\n",
      " 'Gourishankar Bansode' 'Gourishankar Bansode' 'Gourishankar Bansode'\n",
      " 'Gourishankar Bansode' 'Gourishankar Bansode' 'Gourishankar Bansode'\n",
      " 'Gourishankar Bansode' 'Gourishankar Bansode' 'Gourishankar Bansode'\n",
      " 'Gourishankar Bansode' 'Gourishankar Bansode' 'Gourishankar Bansode'\n",
      " 'Gourishankar Bansode' 'Gourishankar Bansode' 'Gourishankar Bansode'\n",
      " 'Gourishankar Bansode' 'Gourishankar Bansode' 'Gourishankar Bansode'\n",
      " 'Gourishankar Bansode' 'Gourishankar Bansode' 'Gourishankar Bansode'\n",
      " 'Gourishankar Bansode' 'Gourishankar Bansode' 'Gourishankar Bansode'\n",
      " 'Gourishankar Bansode' 'Gourishankar Bansode' 'Gourishankar Bansode'\n",
      " 'Gourishankar Bansode' 'Gourishankar Bansode' 'Gourishankar Bansode'\n",
      " 'Gourishankar Bansode' 'Gourishankar Bansode' 'Gourishankar Bansode'\n",
      " 'Gourishankar Bansode' 'Gourishankar Bansode' 'Gourishankar Bansode'\n",
      " 'Gourishankar Bansode' 'Gourishankar Bansode' 'Gourishankar Bansode'\n",
      " 'Gourishankar Bansode' 'Gourishankar Bansode' 'Gourishankar Bansode'\n",
      " 'Gourishankar Bansode' 'Gourishankar Bansode' 'Gourishankar Bansode'\n",
      " 'Gourishankar Bansode' 'Gourishankar Bansode' 'Gourishankar Bansode'\n",
      " 'Gourishankar Bansode' 'Gourishankar Bansode' 'Gourishankar Bansode'\n",
      " 'Gourishankar Bansode' 'Gourishankar Bansode' 'Gourishankar Bansode'\n",
      " 'Gourishankar Bansode' 'Gourishankar Bansode' 'Gourishankar Bansode'\n",
      " 'Gourishankar Bansode' 'Gourishankar Bansode' 'Gourishankar Bansode'\n",
      " 'Gourishankar Bansode' 'Gourishankar Bansode' 'Gourishankar Bansode'\n",
      " 'Gourishankar Bansode' 'Gourishankar Bansode' 'Gourishankar Bansode'\n",
      " 'Gourishankar Bansode' 'Gourishankar Bansode' 'Gourishankar Bansode'\n",
      " 'Gourishankar Bansode' 'Gourishankar Bansode' 'Gourishankar Bansode'\n",
      " 'Gourishankar Bansode' 'Gourishankar Bansode' 'Gourishankar Bansode'\n",
      " 'Gourishankar Bansode']\n"
     ]
    }
   ],
   "source": [
    "print(ynew)\n",
    "# print(x1)"
   ]
  },
  {
   "cell_type": "code",
   "execution_count": 56,
   "metadata": {},
   "outputs": [],
   "source": [
    "import numpy\n",
    "from collections import Counter"
   ]
  },
  {
   "cell_type": "code",
   "execution_count": 57,
   "metadata": {},
   "outputs": [],
   "source": [
    "List = numpy.array(ynew)"
   ]
  },
  {
   "cell_type": "code",
   "execution_count": 58,
   "metadata": {},
   "outputs": [
    {
     "data": {
      "text/plain": [
       "[('Gourishankar Bansode', 249)]"
      ]
     },
     "execution_count": 58,
     "metadata": {},
     "output_type": "execute_result"
    }
   ],
   "source": [
    "Counter(List.flat).most_common(1)"
   ]
  },
  {
   "cell_type": "code",
   "execution_count": null,
   "metadata": {},
   "outputs": [],
   "source": []
  }
 ],
 "metadata": {
  "file_extension": ".py",
  "kernelspec": {
   "display_name": "Python 3",
   "language": "python",
   "name": "python3"
  },
  "language_info": {
   "codemirror_mode": {
    "name": "ipython",
    "version": 3
   },
   "file_extension": ".py",
   "mimetype": "text/x-python",
   "name": "python",
   "nbconvert_exporter": "python",
   "pygments_lexer": "ipython3",
   "version": "3.8.1"
  },
  "mimetype": "text/x-python",
  "name": "python",
  "npconvert_exporter": "python",
  "pygments_lexer": "ipython3",
  "version": 3
 },
 "nbformat": 4,
 "nbformat_minor": 4
}
