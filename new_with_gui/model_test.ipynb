{
 "cells": [
  {
   "cell_type": "code",
   "execution_count": 43,
   "metadata": {},
   "outputs": [],
   "source": [
    "import pandas as pd"
   ]
  },
  {
   "cell_type": "code",
   "execution_count": 44,
   "metadata": {},
   "outputs": [],
   "source": [
    "df=pd.read_csv(\"final.csv\")"
   ]
  },
  {
   "cell_type": "code",
   "execution_count": 45,
   "metadata": {},
   "outputs": [],
   "source": [
    "from sklearn.preprocessing import StandardScaler, Normalizer\n",
    "from sklearn.svm import LinearSVC\n",
    "from sklearn.model_selection import train_test_split\n",
    "from sklearn.metrics import classification_report, confusion_matrix"
   ]
  },
  {
   "cell_type": "code",
   "execution_count": 46,
   "metadata": {},
   "outputs": [],
   "source": [
    "x=df.iloc[:,0:16]\n",
    "\n",
    "obj=StandardScaler()\n",
    "# obj = Normalizer().fit(x)\n",
    "x1=obj.fit_transform(x)\n",
    "y=df['Name']"
   ]
  },
  {
   "cell_type": "code",
   "execution_count": 47,
   "metadata": {},
   "outputs": [
    {
     "name": "stdout",
     "output_type": "stream",
     "text": [
      "0           Kartik Jawanjal\n",
      "1           Kartik Jawanjal\n",
      "2           Kartik Jawanjal\n",
      "3           Kartik Jawanjal\n",
      "4           Kartik Jawanjal\n",
      "               ...         \n",
      "245    Gourishankar Bansode\n",
      "246    Gourishankar Bansode\n",
      "247    Gourishankar Bansode\n",
      "248    Gourishankar Bansode\n",
      "249    Gourishankar Bansode\n",
      "Name: Name, Length: 250, dtype: object\n",
      "[[ 2.25589682  0.02770266  1.72276412 ... -0.53296777 -0.33022987\n",
      "  -0.55653461]\n",
      " [-0.12202486 -0.42674758 -0.3102426  ... -0.0920875   1.69443933\n",
      "  -0.75456325]\n",
      " [ 1.35910929  0.41606669  2.08889679 ... -0.16423211  0.87601934\n",
      "   0.11885625]\n",
      " ...\n",
      " [ 0.88191898  1.33901888  0.87669975 ... -0.16256017 -0.72592231\n",
      "  -0.21965626]\n",
      " [ 1.11315644  1.41274312  0.98845322 ... -0.58222402 -0.61937065\n",
      "  -0.74262876]\n",
      " [ 0.62529392  1.17429528  0.82868276 ...  0.85694035 -0.02532534\n",
      "   0.14597772]]\n"
     ]
    }
   ],
   "source": [
    "print(y)\n",
    "print(x1)"
   ]
  },
  {
   "cell_type": "code",
   "execution_count": 48,
   "metadata": {},
   "outputs": [
    {
     "name": "stderr",
     "output_type": "stream",
     "text": [
      "/home/irobot/anaconda3/envs/mllab/lib/python3.8/site-packages/sklearn/svm/_base.py:946: ConvergenceWarning: Liblinear failed to converge, increase the number of iterations.\n",
      "  warnings.warn(\"Liblinear failed to converge, increase \"\n"
     ]
    },
    {
     "data": {
      "text/plain": [
       "LinearSVC(C=1.0, class_weight=None, dual=True, fit_intercept=True,\n",
       "          intercept_scaling=1, loss='squared_hinge', max_iter=1000,\n",
       "          multi_class='ovr', penalty='l2', random_state=None, tol=0.0001,\n",
       "          verbose=0)"
      ]
     },
     "execution_count": 48,
     "metadata": {},
     "output_type": "execute_result"
    }
   ],
   "source": [
    "xtrain, xtest, ytrain, ytest=train_test_split(x1,y,random_state=42,test_size=0.3)\n",
    "sv=LinearSVC()\n",
    "sv.fit(xtrain,ytrain)"
   ]
  },
  {
   "cell_type": "code",
   "execution_count": 49,
   "metadata": {},
   "outputs": [
    {
     "name": "stdout",
     "output_type": "stream",
     "text": [
      "89.33333333333333\n",
      "[[ 5  2  0  0]\n",
      " [ 2 46  0  0]\n",
      " [ 0  4  5  0]\n",
      " [ 0  0  0 11]]\n",
      "                      precision    recall  f1-score   support\n",
      "\n",
      " Dhananjay Kumar Jha       0.71      0.71      0.71         7\n",
      "Gourishankar Bansode       0.88      0.96      0.92        48\n",
      "        Habil Bhagat       1.00      0.56      0.71         9\n",
      "     Kartik Jawanjal       1.00      1.00      1.00        11\n",
      "\n",
      "            accuracy                           0.89        75\n",
      "           macro avg       0.90      0.81      0.84        75\n",
      "        weighted avg       0.90      0.89      0.89        75\n",
      "\n"
     ]
    }
   ],
   "source": [
    "ypred = sv.predict(xtest)\n",
    "print(sv.score(xtest,ytest)*100)\n",
    "print(confusion_matrix(ytest, ypred))\n",
    "print(classification_report(ytest, ypred))"
   ]
  },
  {
   "cell_type": "code",
   "execution_count": 50,
   "metadata": {},
   "outputs": [],
   "source": [
    "new_in = pd.read_csv(\"points_test1.csv\")"
   ]
  },
  {
   "cell_type": "code",
   "execution_count": 51,
   "metadata": {},
   "outputs": [],
   "source": [
    "new_out = sv.predict(new_in)"
   ]
  },
  {
   "cell_type": "code",
   "execution_count": 52,
   "metadata": {},
   "outputs": [
    {
     "name": "stdout",
     "output_type": "stream",
     "text": [
      "['Dhananjay Kumar Jha' 'Dhananjay Kumar Jha' 'Dhananjay Kumar Jha'\n",
      " 'Kartik Jawanjal' 'Kartik Jawanjal' 'Kartik Jawanjal' 'Kartik Jawanjal'\n",
      " 'Kartik Jawanjal' 'Dhananjay Kumar Jha' 'Dhananjay Kumar Jha'\n",
      " 'Dhananjay Kumar Jha' 'Dhananjay Kumar Jha' 'Kartik Jawanjal'\n",
      " 'Kartik Jawanjal' 'Kartik Jawanjal' 'Habil Bhagat' 'Dhananjay Kumar Jha'\n",
      " 'Gourishankar Bansode' 'Dhananjay Kumar Jha' 'Dhananjay Kumar Jha'\n",
      " 'Dhananjay Kumar Jha' 'Gourishankar Bansode' 'Dhananjay Kumar Jha'\n",
      " 'Kartik Jawanjal' 'Dhananjay Kumar Jha' 'Kartik Jawanjal' 'Habil Bhagat'\n",
      " 'Kartik Jawanjal' 'Kartik Jawanjal' 'Kartik Jawanjal' 'Kartik Jawanjal'\n",
      " 'Gourishankar Bansode' 'Gourishankar Bansode' 'Kartik Jawanjal'\n",
      " 'Gourishankar Bansode' 'Gourishankar Bansode' 'Kartik Jawanjal'\n",
      " 'Kartik Jawanjal' 'Kartik Jawanjal' 'Kartik Jawanjal' 'Kartik Jawanjal'\n",
      " 'Kartik Jawanjal' 'Kartik Jawanjal' 'Kartik Jawanjal' 'Kartik Jawanjal'\n",
      " 'Kartik Jawanjal' 'Kartik Jawanjal' 'Kartik Jawanjal' 'Kartik Jawanjal'\n",
      " 'Kartik Jawanjal' 'Kartik Jawanjal' 'Kartik Jawanjal' 'Kartik Jawanjal'\n",
      " 'Kartik Jawanjal' 'Kartik Jawanjal' 'Kartik Jawanjal' 'Kartik Jawanjal'\n",
      " 'Gourishankar Bansode' 'Kartik Jawanjal' 'Kartik Jawanjal'\n",
      " 'Gourishankar Bansode' 'Dhananjay Kumar Jha' 'Dhananjay Kumar Jha'\n",
      " 'Kartik Jawanjal' 'Kartik Jawanjal' 'Dhananjay Kumar Jha'\n",
      " 'Dhananjay Kumar Jha' 'Dhananjay Kumar Jha' 'Dhananjay Kumar Jha'\n",
      " 'Kartik Jawanjal' 'Kartik Jawanjal' 'Dhananjay Kumar Jha'\n",
      " 'Kartik Jawanjal' 'Dhananjay Kumar Jha' 'Dhananjay Kumar Jha'\n",
      " 'Kartik Jawanjal' 'Kartik Jawanjal' 'Dhananjay Kumar Jha'\n",
      " 'Kartik Jawanjal' 'Dhananjay Kumar Jha' 'Dhananjay Kumar Jha'\n",
      " 'Kartik Jawanjal' 'Kartik Jawanjal' 'Kartik Jawanjal' 'Kartik Jawanjal'\n",
      " 'Kartik Jawanjal' 'Kartik Jawanjal' 'Kartik Jawanjal' 'Kartik Jawanjal'\n",
      " 'Kartik Jawanjal' 'Kartik Jawanjal' 'Kartik Jawanjal' 'Kartik Jawanjal'\n",
      " 'Kartik Jawanjal' 'Kartik Jawanjal' 'Kartik Jawanjal' 'Kartik Jawanjal'\n",
      " 'Kartik Jawanjal' 'Kartik Jawanjal' 'Kartik Jawanjal']\n"
     ]
    }
   ],
   "source": [
    "print(new_out)"
   ]
  },
  {
   "cell_type": "code",
   "execution_count": 12,
   "metadata": {},
   "outputs": [
    {
     "data": {
      "text/plain": [
       "73             Habil Bhagat\n",
       "18          Kartik Jawanjal\n",
       "117    Gourishankar Bansode\n",
       "78      Dhananjay Kumar Jha\n",
       "76      Dhananjay Kumar Jha\n",
       "31          Kartik Jawanjal\n",
       "64             Habil Bhagat\n",
       "140    Gourishankar Bansode\n",
       "68             Habil Bhagat\n",
       "82      Dhananjay Kumar Jha\n",
       "109     Dhananjay Kumar Jha\n",
       "12          Kartik Jawanjal\n",
       "36          Kartik Jawanjal\n",
       "9           Kartik Jawanjal\n",
       "19          Kartik Jawanjal\n",
       "56             Habil Bhagat\n",
       "136    Gourishankar Bansode\n",
       "69             Habil Bhagat\n",
       "55             Habil Bhagat\n",
       "131    Gourishankar Bansode\n",
       "29          Kartik Jawanjal\n",
       "123    Gourishankar Bansode\n",
       "26          Kartik Jawanjal\n",
       "127    Gourishankar Bansode\n",
       "128    Gourishankar Bansode\n",
       "144    Gourishankar Bansode\n",
       "110     Dhananjay Kumar Jha\n",
       "101     Dhananjay Kumar Jha\n",
       "45             Habil Bhagat\n",
       "30          Kartik Jawanjal\n",
       "22          Kartik Jawanjal\n",
       "15          Kartik Jawanjal\n",
       "65             Habil Bhagat\n",
       "11          Kartik Jawanjal\n",
       "42             Habil Bhagat\n",
       "105     Dhananjay Kumar Jha\n",
       "51             Habil Bhagat\n",
       "27          Kartik Jawanjal\n",
       "4           Kartik Jawanjal\n",
       "32          Kartik Jawanjal\n",
       "120    Gourishankar Bansode\n",
       "85      Dhananjay Kumar Jha\n",
       "86      Dhananjay Kumar Jha\n",
       "16          Kartik Jawanjal\n",
       "10          Kartik Jawanjal\n",
       "Name: Name, dtype: object"
      ]
     },
     "execution_count": 12,
     "metadata": {},
     "output_type": "execute_result"
    }
   ],
   "source": [
    "ytest"
   ]
  },
  {
   "cell_type": "code",
   "execution_count": null,
   "metadata": {},
   "outputs": [],
   "source": []
  }
 ],
 "metadata": {
  "file_extension": ".py",
  "kernelspec": {
   "display_name": "Python 3",
   "language": "python",
   "name": "python3"
  },
  "language_info": {
   "codemirror_mode": {
    "name": "ipython",
    "version": 3
   },
   "file_extension": ".py",
   "mimetype": "text/x-python",
   "name": "python",
   "nbconvert_exporter": "python",
   "pygments_lexer": "ipython3",
   "version": "3.8.1"
  },
  "mimetype": "text/x-python",
  "name": "python",
  "npconvert_exporter": "python",
  "pygments_lexer": "ipython3",
  "version": 3
 },
 "nbformat": 4,
 "nbformat_minor": 4
}
