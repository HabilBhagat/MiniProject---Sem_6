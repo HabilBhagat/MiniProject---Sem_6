{
 "cells": [
  {
   "cell_type": "code",
   "execution_count": 1,
   "metadata": {},
   "outputs": [],
   "source": [
    "import pandas as pd"
   ]
  },
  {
   "cell_type": "code",
   "execution_count": 2,
   "metadata": {},
   "outputs": [],
   "source": [
    "df=pd.read_csv(\"final.csv\")"
   ]
  },
  {
   "cell_type": "code",
   "execution_count": 3,
   "metadata": {},
   "outputs": [],
   "source": [
    "from sklearn.preprocessing import StandardScaler\n",
    "from sklearn.svm import LinearSVC\n",
    "from sklearn.model_selection import train_test_split\n",
    "from sklearn.metrics import classification_report, confusion_matrix"
   ]
  },
  {
   "cell_type": "code",
   "execution_count": 4,
   "metadata": {},
   "outputs": [],
   "source": [
    "x=df.iloc[:,0:16]\n",
    "\n",
    "obj=StandardScaler()\n",
    "x1=obj.fit_transform(x)\n",
    "y=df['Name']"
   ]
  },
  {
   "cell_type": "code",
   "execution_count": 5,
   "metadata": {},
   "outputs": [
    {
     "output_type": "execute_result",
     "data": {
      "text/plain": "LinearSVC(C=1.0, class_weight=None, dual=True, fit_intercept=True,\n     intercept_scaling=1, loss='squared_hinge', max_iter=1000,\n     multi_class='ovr', penalty='l2', random_state=None, tol=0.0001,\n     verbose=0)"
     },
     "metadata": {},
     "execution_count": 5
    }
   ],
   "source": [
    "xtrain, xtest, ytrain, ytest=train_test_split(x1,y,random_state=42,test_size=0.3)\n",
    "sv=LinearSVC()\n",
    "sv.fit(xtrain,ytrain)"
   ]
  },
  {
   "cell_type": "code",
   "execution_count": 8,
   "metadata": {},
   "outputs": [
    {
     "output_type": "stream",
     "name": "stdout",
     "text": "X=[12.83862128, 12.50433033, 27.2007105, 51.79053859, 75.77873081, 67.59462669, 157.6593672, 157.4320277, 99.22362272, 245.3909942, 269.5535617, 44.2146233, 121.3315978, 56.17782339, 209.0236427, 0.77932296], Predicted=Kartik Jawanjal\n"
    }
   ],
   "source": [
    "Xnew = [[12.83862128, 12.50433033, 27.2007105, 51.79053859, 75.77873081, 67.59462669, 157.6593672, 157.4320277, 99.22362272, 245.3909942, 269.5535617, 44.2146233,\t121.3315978, 56.17782339, 209.0236427, 0.77932296]]\n",
    "ynew = sv.predict(Xnew)\n",
    "print(\"X=%s, Predicted=%s\" % (Xnew[0], ynew[0]))\n",
    "#print(confusion_matrix(ytest, ypred))\n",
    "#print(classification_report(ytest, ypred))"
   ]
  },
  {
   "cell_type": "code",
   "execution_count": null,
   "metadata": {},
   "outputs": [],
   "source": []
  }
 ],
 "metadata": {
  "language_info": {
   "name": "python",
   "codemirror_mode": {
    "name": "ipython",
    "version": 3
   },
   "version": "3.6.6-final"
  },
  "orig_nbformat": 2,
  "file_extension": ".py",
  "mimetype": "text/x-python",
  "name": "python",
  "npconvert_exporter": "python",
  "pygments_lexer": "ipython3",
  "version": 3,
  "kernelspec": {
   "name": "python36664bit0dae64bc2c7f4db3a79eae90e3d548d6",
   "display_name": "Python 3.6.6 64-bit"
  }
 },
 "nbformat": 4,
 "nbformat_minor": 2
}